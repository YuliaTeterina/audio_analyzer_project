{
 "cells": [
  {
   "cell_type": "code",
   "execution_count": 1,
   "metadata": {},
   "outputs": [
    {
     "name": "stdout",
     "output_type": "stream",
     "text": [
      "Модель Vosk успешно инициализирована!\n"
     ]
    }
   ],
   "source": [
    "import os\n",
    "from vosk import Model\n",
    "\n",
    "MODEL_NAME = \"vosk-model-small-ru-0.22\"\n",
    "\n",
    "if not os.path.exists(MODEL_NAME):\n",
    "    raise FileNotFoundError(\"Модель Vosk не найдена\")\n",
    "else:\n",
    "    model = Model(MODEL_NAME)\n",
    "    print('Модель Vosk успешно инициализирована!')"
   ]
  },
  {
   "cell_type": "code",
   "execution_count": 57,
   "metadata": {},
   "outputs": [],
   "source": [
    "import os\n",
    "import wave\n",
    "import json\n",
    "from vosk import Model, KaldiRecognizer\n",
    "\n",
    "def transcribe_audio(model, audio_path):\n",
    "    #audio_path = 'uploads/record_out.wav'\n",
    "    #audio_path = 'temp.wav'\n",
    "    print(audio_path)\n",
    "    try:\n",
    "        wf = wave.open(audio_path, \"rb\")\n",
    "    except Exception as e:\n",
    "        print(e)\n",
    "    rec = KaldiRecognizer(model, wf.getframerate())\n",
    "    print(wf.getframerate())\n",
    "    \n",
    "    result = []\n",
    "    while True:\n",
    "        data = wf.readframes(2000)\n",
    "        if len(data) == 0:\n",
    "            break\n",
    "        if rec.AcceptWaveform(data):\n",
    "            part_result = json.loads(rec.Result())\n",
    "            result.append(part_result.get(\"text\", \"\"))\n",
    "    \n",
    "    final_result = json.loads(rec.FinalResult())\n",
    "    result.append(final_result.get(\"text\", \"\"))\n",
    "    print(result)\n",
    "    return \" \".join(result)"
   ]
  },
  {
   "cell_type": "code",
   "execution_count": 58,
   "metadata": {},
   "outputs": [
    {
     "name": "stdout",
     "output_type": "stream",
     "text": [
      "uploads\\audio_20250416_181149.wav\n",
      "48000\n",
      "['раз два три четыре пять шесть']\n",
      "раз два три четыре пять шесть\n"
     ]
    }
   ],
   "source": [
    "print(transcribe_audio(model, r'uploads\\audio_20250416_181149.wav'))"
   ]
  },
  {
   "cell_type": "code",
   "execution_count": 95,
   "metadata": {},
   "outputs": [
    {
     "name": "stdout",
     "output_type": "stream",
     "text": [
      "['юля', 'юля']\n"
     ]
    }
   ],
   "source": [
    "from pydub import AudioSegment\n",
    "audio = AudioSegment.from_file(r'uploads/record_out.wav')\n",
    "audio = audio.set_frame_rate(48000).set_channels(1).set_sample_width(2)\n",
    "\n",
    "raw_data = audio.raw_data\n",
    "    \n",
    "rec = KaldiRecognizer(model, 48000)\n",
    "rec.SetWords(True)  # Если нужно получать слова с таймингами\n",
    "\n",
    "result = []\n",
    "\n",
    "# Обрабатываем данные блоками по 4000 байт (как в вашем оригинальном коде)\n",
    "for i in range(0, len(raw_data), 4000):\n",
    "    data = raw_data[i:i+4000]\n",
    "    if len(data) == 0:\n",
    "        break\n",
    "    if rec.AcceptWaveform(data):\n",
    "        part_result = json.loads(rec.Result())\n",
    "        result.append(part_result.get(\"text\", \"\"))\n",
    "\n",
    "# Получаем финальный результат\n",
    "final_result = json.loads(rec.FinalResult())\n",
    "result.append(final_result.get(\"text\", \"\"))\n",
    "print(result)"
   ]
  },
  {
   "cell_type": "code",
   "execution_count": 92,
   "metadata": {},
   "outputs": [
    {
     "name": "stdout",
     "output_type": "stream",
     "text": [
      "Параметры WAV-файла:\n",
      "Количество каналов: 1\n",
      "Ширина сэмпла (байт): 4\n",
      "Частота дискретизации (Гц): 16000\n",
      "Количество кадров: 48000\n",
      "Тип сжатия: NONE\n",
      "Имя компрессии: not compressed\n",
      "Длительность (сек): 3.00\n"
     ]
    }
   ],
   "source": [
    "import wave\n",
    "\n",
    "with wave.open(\"uploads/record_out.wav\", \"rb\") as wav_file:\n",
    "    # Основные параметры\n",
    "    params = wav_file.getparams()\n",
    "    print(\"Параметры WAV-файла:\")\n",
    "    print(f\"Количество каналов: {params.nchannels}\")\n",
    "    print(f\"Ширина сэмпла (байт): {params.sampwidth}\")\n",
    "    print(f\"Частота дискретизации (Гц): {params.framerate}\")\n",
    "    print(f\"Количество кадров: {params.nframes}\")\n",
    "    print(f\"Тип сжатия: {params.comptype}\")\n",
    "    print(f\"Имя компрессии: {params.compname}\")\n",
    "    \n",
    "    # Дополнительно можно получить длительность в секундах\n",
    "    duration = params.nframes / params.framerate\n",
    "    print(f\"Длительность (сек): {duration:.2f}\")"
   ]
  },
  {
   "cell_type": "code",
   "execution_count": 93,
   "metadata": {},
   "outputs": [
    {
     "name": "stdout",
     "output_type": "stream",
     "text": [
      "Параметры WAV-файла:\n",
      "Количество каналов: 1\n",
      "Ширина сэмпла (байт): 2\n",
      "Частота дискретизации (Гц): 48000\n",
      "Количество кадров: 273600\n",
      "Тип сжатия: NONE\n",
      "Имя компрессии: not compressed\n",
      "Длительность (сек): 5.70\n"
     ]
    }
   ],
   "source": [
    "import wave\n",
    "\n",
    "with wave.open(\"record_out.wav\", \"rb\") as wav_file:\n",
    "    # Основные параметры\n",
    "    params = wav_file.getparams()\n",
    "    print(\"Параметры WAV-файла:\")\n",
    "    print(f\"Количество каналов: {params.nchannels}\")\n",
    "    print(f\"Ширина сэмпла (байт): {params.sampwidth}\")\n",
    "    print(f\"Частота дискретизации (Гц): {params.framerate}\")\n",
    "    print(f\"Количество кадров: {params.nframes}\")\n",
    "    print(f\"Тип сжатия: {params.comptype}\")\n",
    "    print(f\"Имя компрессии: {params.compname}\")\n",
    "    \n",
    "    # Дополнительно можно получить длительность в секундах\n",
    "    duration = params.nframes / params.framerate\n",
    "    print(f\"Длительность (сек): {duration:.2f}\")"
   ]
  },
  {
   "cell_type": "code",
   "execution_count": 88,
   "metadata": {},
   "outputs": [
    {
     "name": "stdout",
     "output_type": "stream",
     "text": [
      "[-5.8686012e-10 -6.5592720e-10  9.3923325e-10 ...  3.3134042e-04\n",
      " -1.6097634e-04 -1.9135085e-04] 22050\n"
     ]
    }
   ],
   "source": [
    "import librosa\n",
    "wf, sr = librosa.load(r'record_out.wav')\n",
    "print(wf, sr)"
   ]
  }
 ],
 "metadata": {
  "kernelspec": {
   "display_name": "Python 3",
   "language": "python",
   "name": "python3"
  },
  "language_info": {
   "codemirror_mode": {
    "name": "ipython",
    "version": 3
   },
   "file_extension": ".py",
   "mimetype": "text/x-python",
   "name": "python",
   "nbconvert_exporter": "python",
   "pygments_lexer": "ipython3",
   "version": "3.12.3"
  }
 },
 "nbformat": 4,
 "nbformat_minor": 2
}
