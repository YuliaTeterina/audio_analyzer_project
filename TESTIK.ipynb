{
 "cells": [
  {
   "cell_type": "code",
   "execution_count": 1,
   "metadata": {},
   "outputs": [
    {
     "name": "stdout",
     "output_type": "stream",
     "text": [
      "Модель Vosk успешно инициализирована!\n"
     ]
    }
   ],
   "source": [
    "import os\n",
    "from vosk import Model\n",
    "\n",
    "MODEL_NAME = \"vosk-model-small-ru-0.22\"\n",
    "\n",
    "if not os.path.exists(MODEL_NAME):\n",
    "    raise FileNotFoundError(\"Модель Vosk не найдена\")\n",
    "else:\n",
    "    model = Model(MODEL_NAME)\n",
    "    print('Модель Vosk успешно инициализирована!')"
   ]
  },
  {
   "cell_type": "code",
   "execution_count": 2,
   "metadata": {},
   "outputs": [],
   "source": [
    "import os\n",
    "import wave\n",
    "import json\n",
    "from vosk import Model, KaldiRecognizer\n",
    "\n",
    "def transcribe_audio(model, audio_path):\n",
    "    #audio_path = 'uploads/record_out.wav'\n",
    "    #audio_path = 'temp.wav'\n",
    "    print(audio_path)\n",
    "    try:\n",
    "        wf = wave.open(audio_path, \"rb\")\n",
    "    except Exception as e:\n",
    "        print(e)\n",
    "    rec = KaldiRecognizer(model, wf.getframerate())\n",
    "    print(wf.getframerate())\n",
    "    \n",
    "    result = []\n",
    "    while True:\n",
    "        data = wf.readframes(2000)\n",
    "        if len(data) == 0:\n",
    "            break\n",
    "        if rec.AcceptWaveform(data):\n",
    "            part_result = json.loads(rec.Result())\n",
    "            result.append(part_result.get(\"text\", \"\"))\n",
    "    \n",
    "    final_result = json.loads(rec.FinalResult())\n",
    "    result.append(final_result.get(\"text\", \"\"))\n",
    "    print(result)\n",
    "    return \" \".join(result)"
   ]
  },
  {
   "cell_type": "code",
   "execution_count": 3,
   "metadata": {},
   "outputs": [
    {
     "name": "stdout",
     "output_type": "stream",
     "text": [
      "M:\\app_project\\uploads\\emotions_test.wav\n",
      "48000\n",
      "['ужасный не красивый плохой злой', 'хороший отличный классный добрый']\n",
      "ужасный не красивый плохой злой хороший отличный классный добрый\n"
     ]
    }
   ],
   "source": [
    "text = transcribe_audio(model, r'M:\\app_project\\uploads\\emotions_test.wav')\n",
    "print(text)"
   ]
  },
  {
   "cell_type": "code",
   "execution_count": 22,
   "metadata": {},
   "outputs": [],
   "source": [
    "text = 'Angry bad awful good'"
   ]
  },
  {
   "cell_type": "code",
   "execution_count": 4,
   "metadata": {},
   "outputs": [
    {
     "ename": "ModuleNotFoundError",
     "evalue": "No module named 'rusentiment'",
     "output_type": "error",
     "traceback": [
      "\u001b[1;31m---------------------------------------------------------------------------\u001b[0m",
      "\u001b[1;31mModuleNotFoundError\u001b[0m                       Traceback (most recent call last)",
      "Cell \u001b[1;32mIn[4], line 1\u001b[0m\n\u001b[1;32m----> 1\u001b[0m \u001b[38;5;28;01mfrom\u001b[39;00m \u001b[38;5;21;01mrusentiment\u001b[39;00m \u001b[38;5;28;01mimport\u001b[39;00m RuSentiment\n\u001b[0;32m      3\u001b[0m rs \u001b[38;5;241m=\u001b[39m RuSentiment()\n\u001b[0;32m      4\u001b[0m text \u001b[38;5;241m=\u001b[39m \u001b[38;5;124m\"\u001b[39m\u001b[38;5;124mЯ в восторге от этого кафе!\u001b[39m\u001b[38;5;124m\"\u001b[39m\n",
      "\u001b[1;31mModuleNotFoundError\u001b[0m: No module named 'rusentiment'"
     ]
    }
   ],
   "source": [
    "from rusentiment import RuSentiment\n",
    "\n",
    "rs = RuSentiment()\n",
    "text = \"Я в восторге от этого кафе!\"\n",
    "result = rs.predict(text)\n",
    "\n",
    "print(result)  # Вывод: ['positive']"
   ]
  },
  {
   "cell_type": "code",
   "execution_count": 6,
   "metadata": {},
   "outputs": [
    {
     "ename": "AttributeError",
     "evalue": "'TextBlob' object has no attribute 'translate'",
     "output_type": "error",
     "traceback": [
      "\u001b[1;31m---------------------------------------------------------------------------\u001b[0m",
      "\u001b[1;31mAttributeError\u001b[0m                            Traceback (most recent call last)",
      "Cell \u001b[1;32mIn[6], line 4\u001b[0m\n\u001b[0;32m      1\u001b[0m \u001b[38;5;28;01mfrom\u001b[39;00m \u001b[38;5;21;01mtextblob\u001b[39;00m \u001b[38;5;28;01mimport\u001b[39;00m TextBlob\n\u001b[0;32m      3\u001b[0m a \u001b[38;5;241m=\u001b[39m TextBlob(\u001b[38;5;124m\"\u001b[39m\u001b[38;5;124mПривет\u001b[39m\u001b[38;5;124m\"\u001b[39m)\n\u001b[1;32m----> 4\u001b[0m \u001b[43ma\u001b[49m\u001b[38;5;241;43m.\u001b[39;49m\u001b[43mtranslate\u001b[49m(to\u001b[38;5;241m=\u001b[39m\u001b[38;5;124m'\u001b[39m\u001b[38;5;124mru\u001b[39m\u001b[38;5;124m'\u001b[39m)\n",
      "\u001b[1;31mAttributeError\u001b[0m: 'TextBlob' object has no attribute 'translate'"
     ]
    }
   ],
   "source": [
    "from textblob import TextBlob\n",
    "\n",
    "a = TextBlob(\"Привет\")\n",
    "a.translate(to='ru')"
   ]
  },
  {
   "cell_type": "code",
   "execution_count": 10,
   "metadata": {},
   "outputs": [
    {
     "ename": "NameError",
     "evalue": "name 'inputs' is not defined",
     "output_type": "error",
     "traceback": [
      "\u001b[1;31m---------------------------------------------------------------------------\u001b[0m",
      "\u001b[1;31mNameError\u001b[0m                                 Traceback (most recent call last)",
      "Cell \u001b[1;32mIn[10], line 1\u001b[0m\n\u001b[1;32m----> 1\u001b[0m \u001b[43minputs\u001b[49m\n",
      "\u001b[1;31mNameError\u001b[0m: name 'inputs' is not defined"
     ]
    }
   ],
   "source": [
    "inputs"
   ]
  },
  {
   "cell_type": "code",
   "execution_count": 14,
   "metadata": {},
   "outputs": [],
   "source": [
    "emotions = ['негативный', 'нейтральный', 'позитивный']"
   ]
  },
  {
   "cell_type": "code",
   "execution_count": null,
   "metadata": {},
   "outputs": [],
   "source": [
    "async function analyzeEmotions(text) {\n",
    "            // Показываем индикатор загрузки\n",
    "            loadingIndicator.classList.remove('hidden');\n",
    "            \n",
    "            try {\n",
    "                // Отправляем текст на сервер для анализа\n",
    "                const response = await fetch('http://localhost:5001/analyze_sentiment', {\n",
    "                    method: 'POST',\n",
    "                    headers: {\n",
    "                        'Content-Type': 'application/json'\n",
    "                    },\n",
    "                    body: JSON.stringify({ text: text })\n",
    "                });\n",
    "                \n",
    "                if (!response.ok) {\n",
    "                    throw new Error(`Ошибка сервера: ${response.status}`);\n",
    "                }\n",
    "                \n",
    "                const data = await response.json();\n",
    "\n",
    "                console.log(data);\n",
    "                \n",
    "                // Обновляем интерфейс с полученными данными\n",
    "                updateEmotionBars({\n",
    "                    happy: Math.round(data.positive * 100),\n",
    "                    sad: Math.round(data.negative * 100),\n",
    "                    angry: Math.round((data.neutral * 100) / 2) // Часть нейтрального считаем как \"злость\"\n",
    "                });\n",
    "                \n",
    "            } catch (error) {\n",
    "                console.error('Ошибка анализа эмоций:', error);\n",
    "                showAlert('Не удалось проанализировать эмоции', 'error');\n",
    "            } finally {\n",
    "                loadingIndicator.classList.add('hidden');\n",
    "            }\n",
    "        }\n",
    "\n",
    "        // Цветовая маркировка текста по эмоциям\n",
    "        function colorizeText(text) {\n",
    "            // Словари эмоциональных слов (можно расширить)\n",
    "            const happyWords = ['радость', 'счастье', 'ура', 'хорошо', 'прекрасно', 'люблю', 'нравится', 'отлично', 'восторг', 'удовольствие', 'весел', 'рад', 'смех'];\n",
    "            const sadWords = ['грусть', 'печаль', 'плохо', 'тоска', 'одиночество', 'слезы', 'обида', 'разочарование', 'горе', 'жаль', 'грустн', 'плач', 'несчаст'];\n",
    "            const angryWords = ['злость', 'ненавижу', 'бесит', 'раздражает', 'отвратительно', 'гнев', 'ужасно', 'кошмар', 'ярость', 'возмущение', 'злюсь', 'сердит', 'бешен'];\n",
    "\n",
    "            // Разбиваем текст на слова\n",
    "            const words = text.split(/(\\s+)/);\n",
    "\n",
    "            // Анализируем каждое слово\n",
    "            const coloredWords = words.map(word => {\n",
    "                const cleanWord = word.toLowerCase().replace(/[.,!?]/g, '');\n",
    "\n",
    "                if (happyWords.some(happyWord => cleanWord.includes(happyWord))) {\n",
    "                    return `<span class=\"word happy\">${word}<span class=\"emotion-tag tag-happy\">радость</span></span>`;\n",
    "                }\n",
    "                else if (sadWords.some(sadWord => cleanWord.includes(sadWord))) {\n",
    "                    return `<span class=\"word sad\">${word}<span class=\"emotion-tag tag-sad\">грусть</span></span>`;\n",
    "                }\n",
    "                else if (angryWords.some(angryWord => cleanWord.includes(angryWord))) {\n",
    "                    return `<span class=\"word angry\">${word}<span class=\"emotion-tag tag-angry\">злость</span></span>`;\n",
    "                }\n",
    "                else {\n",
    "                    return `<span class=\"word neutral\">${word}</span>`;\n",
    "                }\n",
    "            });\n",
    "\n",
    "            return coloredWords.join('');\n",
    "        }"
   ]
  },
  {
   "cell_type": "code",
   "execution_count": null,
   "metadata": {},
   "outputs": [],
   "source": [
    "@app.route('/analyze_sentiment', methods=['POST'])\n",
    "def analyze_sentiment():\n",
    "    text = request.json.get('text', '')\n",
    "    \n",
    "    # Анализ всего текста\n",
    "    inputs = tokenizer(text, return_tensors=\"pt\", truncation=True, padding=True)\n",
    "    with torch.no_grad():\n",
    "        outputs = model(**inputs)\n",
    "    proba = torch.softmax(outputs.logits, dim=1).numpy()[0]\n",
    "    \n",
    "    return jsonify({\n",
    "        'negative': float(proba[0]),\n",
    "        'neutral': float(proba[1]),\n",
    "        'positive': float(proba[2])\n",
    "    })\n",
    "\n",
    "@app.route('/analyze_words', methods=['POST'])\n",
    "def analyze_words():\n",
    "    text = request.json.get('text', '')\n",
    "    words = list(set(word.strip(\".,!?\") for word in text.split() if word.strip(\".,!?\")))\n",
    "    \n",
    "    results = []\n",
    "    for word in words:\n",
    "        inputs = tokenizer(word, return_tensors=\"pt\", truncation=True, padding=True)\n",
    "        with torch.no_grad():\n",
    "            outputs = model(**inputs)\n",
    "        proba = torch.softmax(outputs.logits, dim=1).numpy()[0]\n",
    "        sentiment = ['negative', 'neutral', 'positive'][np.argmax(proba)]\n",
    "        results.append({\n",
    "            'word': word,\n",
    "            'sentiment': sentiment,\n",
    "            'confidence': float(np.max(proba))\n",
    "        })\n",
    "    \n",
    "    return jsonify(results)"
   ]
  },
  {
   "cell_type": "code",
   "execution_count": 20,
   "metadata": {},
   "outputs": [
    {
     "name": "stdout",
     "output_type": "stream",
     "text": [
      "негативный\n",
      "позитивный\n"
     ]
    }
   ],
   "source": [
    "from transformers import AutoTokenizer, AutoModelForSequenceClassification\n",
    "import torch\n",
    "import numpy as np\n",
    "\n",
    "model_name = \"cointegrated/rubert-tiny-sentiment-balanced\"\n",
    "tokenizer = AutoTokenizer.from_pretrained(model_name)\n",
    "model = AutoModelForSequenceClassification.from_pretrained(model_name)\n",
    "\n",
    "def get_word_sentiment(word):\n",
    "    inputs = tokenizer(word, return_tensors=\"pt\", truncation=True, padding=True)\n",
    "    with torch.no_grad():\n",
    "        outputs = model(**inputs)\n",
    "    proba = torch.softmax(outputs.logits, dim=1).numpy()[0]\n",
    "    return emotions[np.argmax(proba)]\n",
    "\n",
    "\n",
    "text = \"Плохо нормально!\"\n",
    "for word in text.split():\n",
    "    print(get_word_sentiment(word))"
   ]
  },
  {
   "cell_type": "code",
   "execution_count": 25,
   "metadata": {},
   "outputs": [
    {
     "ename": "AttributeError",
     "evalue": "'TextBlob' object has no attribute 'translate'",
     "output_type": "error",
     "traceback": [
      "\u001b[1;31m---------------------------------------------------------------------------\u001b[0m",
      "\u001b[1;31mAttributeError\u001b[0m                            Traceback (most recent call last)",
      "Cell \u001b[1;32mIn[25], line 32\u001b[0m\n\u001b[0;32m     29\u001b[0m         colored_text\u001b[38;5;241m.\u001b[39mappend(\u001b[38;5;124mf\u001b[39m\u001b[38;5;124m'\u001b[39m\u001b[38;5;124m<span style=\u001b[39m\u001b[38;5;124m\"\u001b[39m\u001b[38;5;124mcolor:\u001b[39m\u001b[38;5;132;01m{\u001b[39;00mcolor\u001b[38;5;132;01m}\u001b[39;00m\u001b[38;5;124m\"\u001b[39m\u001b[38;5;124m>\u001b[39m\u001b[38;5;132;01m{\u001b[39;00mword\u001b[38;5;132;01m}\u001b[39;00m\u001b[38;5;124m</span>\u001b[39m\u001b[38;5;124m'\u001b[39m)\n\u001b[0;32m     30\u001b[0m     \u001b[38;5;28;01mreturn\u001b[39;00m \u001b[38;5;124m\"\u001b[39m\u001b[38;5;124m \u001b[39m\u001b[38;5;124m\"\u001b[39m\u001b[38;5;241m.\u001b[39mjoin(colored_text)\n\u001b[1;32m---> 32\u001b[0m colored_text \u001b[38;5;241m=\u001b[39m \u001b[43mcolorize_text\u001b[49m\u001b[43m(\u001b[49m\u001b[43mtext\u001b[49m\u001b[43m)\u001b[49m\n\u001b[0;32m     33\u001b[0m \u001b[38;5;28mprint\u001b[39m(colored_text)\n",
      "Cell \u001b[1;32mIn[25], line 27\u001b[0m, in \u001b[0;36mcolorize_text\u001b[1;34m(text)\u001b[0m\n\u001b[0;32m     25\u001b[0m colored_text \u001b[38;5;241m=\u001b[39m []\n\u001b[0;32m     26\u001b[0m \u001b[38;5;28;01mfor\u001b[39;00m word \u001b[38;5;129;01min\u001b[39;00m words:\n\u001b[1;32m---> 27\u001b[0m     emotion \u001b[38;5;241m=\u001b[39m \u001b[43manalyze_emotion\u001b[49m\u001b[43m(\u001b[49m\u001b[43mword\u001b[49m\u001b[43m)\u001b[49m\n\u001b[0;32m     28\u001b[0m     color \u001b[38;5;241m=\u001b[39m emotion_colors\u001b[38;5;241m.\u001b[39mget(emotion, \u001b[38;5;124m\"\u001b[39m\u001b[38;5;124m#C0C0C0\u001b[39m\u001b[38;5;124m\"\u001b[39m)\n\u001b[0;32m     29\u001b[0m     colored_text\u001b[38;5;241m.\u001b[39mappend(\u001b[38;5;124mf\u001b[39m\u001b[38;5;124m'\u001b[39m\u001b[38;5;124m<span style=\u001b[39m\u001b[38;5;124m\"\u001b[39m\u001b[38;5;124mcolor:\u001b[39m\u001b[38;5;132;01m{\u001b[39;00mcolor\u001b[38;5;132;01m}\u001b[39;00m\u001b[38;5;124m\"\u001b[39m\u001b[38;5;124m>\u001b[39m\u001b[38;5;132;01m{\u001b[39;00mword\u001b[38;5;132;01m}\u001b[39;00m\u001b[38;5;124m</span>\u001b[39m\u001b[38;5;124m'\u001b[39m)\n",
      "Cell \u001b[1;32mIn[25], line 13\u001b[0m, in \u001b[0;36manalyze_emotion\u001b[1;34m(word)\u001b[0m\n\u001b[0;32m     11\u001b[0m \u001b[38;5;28;01mdef\u001b[39;00m \u001b[38;5;21manalyze_emotion\u001b[39m(word):\n\u001b[0;32m     12\u001b[0m     blob \u001b[38;5;241m=\u001b[39m TextBlob(word)\n\u001b[1;32m---> 13\u001b[0m     sentiment \u001b[38;5;241m=\u001b[39m \u001b[43mblob\u001b[49m\u001b[38;5;241;43m.\u001b[39;49m\u001b[43mtranslate\u001b[49m(from_lang\u001b[38;5;241m=\u001b[39m\u001b[38;5;124m'\u001b[39m\u001b[38;5;124mru\u001b[39m\u001b[38;5;124m'\u001b[39m, to\u001b[38;5;241m=\u001b[39m\u001b[38;5;124m'\u001b[39m\u001b[38;5;124men\u001b[39m\u001b[38;5;124m'\u001b[39m)\u001b[38;5;241m.\u001b[39msentiment\u001b[38;5;241m.\u001b[39mpolarity\n\u001b[0;32m     14\u001b[0m     \u001b[38;5;28mprint\u001b[39m(word, sentiment)\n\u001b[0;32m     16\u001b[0m     \u001b[38;5;28;01mif\u001b[39;00m sentiment \u001b[38;5;241m>\u001b[39m \u001b[38;5;241m0.3\u001b[39m:\n",
      "\u001b[1;31mAttributeError\u001b[0m: 'TextBlob' object has no attribute 'translate'"
     ]
    }
   ],
   "source": [
    "from textblob import TextBlob\n",
    "\n",
    "emotion_colors = {\n",
    "    \"радость\": \"#FFD700\",\n",
    "    \"грусть\": \"#4682B4\",\n",
    "    \"гнев\": \"#FF4500\",\n",
    "    \"страх\": \"#800080\",\n",
    "    \"нейтрально\": \"#C0C0C0\"\n",
    "}\n",
    "\n",
    "def analyze_emotion(word):\n",
    "    blob = TextBlob(word)\n",
    "    sentiment = blob.translate(from_lang='ru', to='en').sentiment.polarity\n",
    "    print(word, sentiment)\n",
    "    \n",
    "    if sentiment > 0.3:\n",
    "        return \"радость\"\n",
    "    elif sentiment < -0.3:\n",
    "        return \"гнев\"\n",
    "    else:\n",
    "        return \"нейтрально\"\n",
    "\n",
    "def colorize_text(text):\n",
    "    words = text.split()\n",
    "    colored_text = []\n",
    "    for word in words:\n",
    "        emotion = analyze_emotion(word)\n",
    "        color = emotion_colors.get(emotion, \"#C0C0C0\")\n",
    "        colored_text.append(f'<span style=\"color:{color}\">{word}</span>')\n",
    "    return \" \".join(colored_text)\n",
    "\n",
    "colored_text = colorize_text(text)\n",
    "print(colored_text)"
   ]
  },
  {
   "cell_type": "code",
   "execution_count": 95,
   "metadata": {},
   "outputs": [
    {
     "name": "stdout",
     "output_type": "stream",
     "text": [
      "['юля', 'юля']\n"
     ]
    }
   ],
   "source": [
    "from pydub import AudioSegment\n",
    "audio = AudioSegment.from_file(r'uploads/record_out.wav')\n",
    "audio = audio.set_frame_rate(48000).set_channels(1).set_sample_width(2)\n",
    "\n",
    "raw_data = audio.raw_data\n",
    "    \n",
    "rec = KaldiRecognizer(model, 48000)\n",
    "rec.SetWords(True)  # Если нужно получать слова с таймингами\n",
    "\n",
    "result = []\n",
    "\n",
    "# Обрабатываем данные блоками по 4000 байт (как в вашем оригинальном коде)\n",
    "for i in range(0, len(raw_data), 4000):\n",
    "    data = raw_data[i:i+4000]\n",
    "    if len(data) == 0:\n",
    "        break\n",
    "    if rec.AcceptWaveform(data):\n",
    "        part_result = json.loads(rec.Result())\n",
    "        result.append(part_result.get(\"text\", \"\"))\n",
    "\n",
    "# Получаем финальный результат\n",
    "final_result = json.loads(rec.FinalResult())\n",
    "result.append(final_result.get(\"text\", \"\"))\n",
    "print(result)"
   ]
  },
  {
   "cell_type": "code",
   "execution_count": 92,
   "metadata": {},
   "outputs": [
    {
     "name": "stdout",
     "output_type": "stream",
     "text": [
      "Параметры WAV-файла:\n",
      "Количество каналов: 1\n",
      "Ширина сэмпла (байт): 4\n",
      "Частота дискретизации (Гц): 16000\n",
      "Количество кадров: 48000\n",
      "Тип сжатия: NONE\n",
      "Имя компрессии: not compressed\n",
      "Длительность (сек): 3.00\n"
     ]
    }
   ],
   "source": [
    "import wave\n",
    "\n",
    "with wave.open(\"uploads/record_out.wav\", \"rb\") as wav_file:\n",
    "    # Основные параметры\n",
    "    params = wav_file.getparams()\n",
    "    print(\"Параметры WAV-файла:\")\n",
    "    print(f\"Количество каналов: {params.nchannels}\")\n",
    "    print(f\"Ширина сэмпла (байт): {params.sampwidth}\")\n",
    "    print(f\"Частота дискретизации (Гц): {params.framerate}\")\n",
    "    print(f\"Количество кадров: {params.nframes}\")\n",
    "    print(f\"Тип сжатия: {params.comptype}\")\n",
    "    print(f\"Имя компрессии: {params.compname}\")\n",
    "    \n",
    "    # Дополнительно можно получить длительность в секундах\n",
    "    duration = params.nframes / params.framerate\n",
    "    print(f\"Длительность (сек): {duration:.2f}\")"
   ]
  },
  {
   "cell_type": "code",
   "execution_count": 93,
   "metadata": {},
   "outputs": [
    {
     "name": "stdout",
     "output_type": "stream",
     "text": [
      "Параметры WAV-файла:\n",
      "Количество каналов: 1\n",
      "Ширина сэмпла (байт): 2\n",
      "Частота дискретизации (Гц): 48000\n",
      "Количество кадров: 273600\n",
      "Тип сжатия: NONE\n",
      "Имя компрессии: not compressed\n",
      "Длительность (сек): 5.70\n"
     ]
    }
   ],
   "source": [
    "import wave\n",
    "\n",
    "with wave.open(\"record_out.wav\", \"rb\") as wav_file:\n",
    "    # Основные параметры\n",
    "    params = wav_file.getparams()\n",
    "    print(\"Параметры WAV-файла:\")\n",
    "    print(f\"Количество каналов: {params.nchannels}\")\n",
    "    print(f\"Ширина сэмпла (байт): {params.sampwidth}\")\n",
    "    print(f\"Частота дискретизации (Гц): {params.framerate}\")\n",
    "    print(f\"Количество кадров: {params.nframes}\")\n",
    "    print(f\"Тип сжатия: {params.comptype}\")\n",
    "    print(f\"Имя компрессии: {params.compname}\")\n",
    "    \n",
    "    # Дополнительно можно получить длительность в секундах\n",
    "    duration = params.nframes / params.framerate\n",
    "    print(f\"Длительность (сек): {duration:.2f}\")"
   ]
  },
  {
   "cell_type": "code",
   "execution_count": 88,
   "metadata": {},
   "outputs": [
    {
     "name": "stdout",
     "output_type": "stream",
     "text": [
      "[-5.8686012e-10 -6.5592720e-10  9.3923325e-10 ...  3.3134042e-04\n",
      " -1.6097634e-04 -1.9135085e-04] 22050\n"
     ]
    }
   ],
   "source": [
    "import librosa\n",
    "wf, sr = librosa.load(r'record_out.wav')\n",
    "print(wf, sr)"
   ]
  },
  {
   "cell_type": "code",
   "execution_count": null,
   "metadata": {},
   "outputs": [],
   "source": []
  }
 ],
 "metadata": {
  "kernelspec": {
   "display_name": "Python 3",
   "language": "python",
   "name": "python3"
  },
  "language_info": {
   "codemirror_mode": {
    "name": "ipython",
    "version": 3
   },
   "file_extension": ".py",
   "mimetype": "text/x-python",
   "name": "python",
   "nbconvert_exporter": "python",
   "pygments_lexer": "ipython3",
   "version": "3.12.3"
  }
 },
 "nbformat": 4,
 "nbformat_minor": 2
}
